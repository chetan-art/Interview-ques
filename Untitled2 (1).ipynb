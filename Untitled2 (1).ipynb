{
  "cells": [
    {
      "cell_type": "markdown",
      "source": [
        "***Interview Questions***"
      ],
      "metadata": {
        "id": "Ea8hhYWz_5GK"
      }
    },
    {
      "cell_type": "markdown",
      "source": [
        "1.\tWhat are the data types in python?\n",
        "\n",
        "  Datatypes in Python are:\n",
        "-\tList  # [1,2,3,’a’,’b’]\n",
        "-\tTuple # (1,2,3,’a’,’b’)\n",
        "-\tint # 12, 56\n",
        "-\tfloat # 17.89,45.789\n",
        "-\tset # {1,2,3,89,56}\n",
        "-\tdict # {‘key’: ’value’}\n",
        "-\tbool # True, False"
      ],
      "metadata": {
        "id": "9f0EF4tGAJ0j"
      }
    },
    {
      "cell_type": "markdown",
      "source": [
        "2.\tWhat is the diff b/w list and tuple?"
      ],
      "metadata": {
        "id": "PxZvemqfAeHF"
      }
    },
    {
      "cell_type": "markdown",
      "source": [
        "Difference between list and tuple:\n",
        "List =>\n",
        "Lists are defined as []\tLists can be updated even after defining the list i.e., Mutable\n",
        "List have more methods that we can do more functionality over the list or list elements\n",
        "Tuple =>\n",
        "Tuples are defined as () Tuples can’t be updated after declaration i.e., Immutable\n",
        "Tuples have two methods (index, count) as they are immutable datatypes.\n"
      ],
      "metadata": {
        "id": "EKiN1z6AAfgc"
      }
    },
    {
      "cell_type": "markdown",
      "source": [
        "3.\tString slicing\n",
        "str1=\"this is python\"\n",
        "str1[1:--4] = ?\n",
        "str1[-2:1] = ?\n",
        "\n"
      ],
      "metadata": {
        "id": "TxikApuKA2Ht"
      }
    },
    {
      "cell_type": "code",
      "source": [
        "str1=\"this is python\"\n",
        "str1[1:-4]\n"
      ],
      "metadata": {
        "colab": {
          "base_uri": "https://localhost:8080/",
          "height": 35
        },
        "id": "7bZ00gzSBNRa",
        "outputId": "488b2da9-383e-44f6-a238-87df2b83a19a"
      },
      "execution_count": 2,
      "outputs": [
        {
          "output_type": "execute_result",
          "data": {
            "text/plain": [
              "'his is py'"
            ],
            "application/vnd.google.colaboratory.intrinsic+json": {
              "type": "string"
            }
          },
          "metadata": {},
          "execution_count": 2
        }
      ]
    },
    {
      "cell_type": "code",
      "source": [
        "str1[-2:1]"
      ],
      "metadata": {
        "colab": {
          "base_uri": "https://localhost:8080/",
          "height": 35
        },
        "id": "EDM1JXAYBSXT",
        "outputId": "a052529f-8489-4050-8901-a9b32350e29a"
      },
      "execution_count": 3,
      "outputs": [
        {
          "output_type": "execute_result",
          "data": {
            "text/plain": [
              "''"
            ],
            "application/vnd.google.colaboratory.intrinsic+json": {
              "type": "string"
            }
          },
          "metadata": {},
          "execution_count": 3
        }
      ]
    },
    {
      "cell_type": "code",
      "source": [
        "#Merge 2 dictionaries\n",
        "x = {1:22, 3:44, 5:66}\n",
        "y = {'a': 'b', 'c': 'd'}\n",
        "x.update(y)\n",
        "print(x)\n"
      ],
      "metadata": {
        "colab": {
          "base_uri": "https://localhost:8080/"
        },
        "id": "i3Le5cqABbDn",
        "outputId": "fb8a0219-9def-4226-df8e-91ef9e7c3f3e"
      },
      "execution_count": 5,
      "outputs": [
        {
          "output_type": "stream",
          "name": "stdout",
          "text": [
            "{1: 22, 3: 44, 5: 66, 'a': 'b', 'c': 'd'}\n"
          ]
        }
      ]
    },
    {
      "cell_type": "code",
      "source": [
        "#5.\tWhat is the difference b/w append and extend?\n",
        "#\tappend is used to add a single value at the end of the list.\n",
        "\n",
        "x = [1, 2, 3, 4, 5]\n",
        "x.append('g')\n",
        "print(x) # [1, 2, 3, 4, 5, ’g’]\n"
      ],
      "metadata": {
        "colab": {
          "base_uri": "https://localhost:8080/"
        },
        "id": "NeY5Rf7bBllT",
        "outputId": "214a7963-b5b4-46f6-d09a-83670a55aec7"
      },
      "execution_count": 6,
      "outputs": [
        {
          "output_type": "stream",
          "name": "stdout",
          "text": [
            "[1, 2, 3, 4, 5, 'g']\n"
          ]
        }
      ]
    },
    {
      "cell_type": "code",
      "source": [
        "#\textend is used to add multiple values at a time as iterator.\n",
        "x = [1, 2, 3, 4, 5]\n",
        "x.extend('ghi')\n",
        "print(x) # [1, 2, 3, 4, 5, ’g’, ’h’, ’i’]\n"
      ],
      "metadata": {
        "colab": {
          "base_uri": "https://localhost:8080/"
        },
        "id": "g2hAZbY9B-xe",
        "outputId": "09846f42-c6f2-4858-ac22-2a977825c6e6"
      },
      "execution_count": 7,
      "outputs": [
        {
          "output_type": "stream",
          "name": "stdout",
          "text": [
            "[1, 2, 3, 4, 5, 'g', 'h', 'i']\n"
          ]
        }
      ]
    },
    {
      "cell_type": "markdown",
      "source": [
        "6.\tWhat is the use of with keyword in files?\n",
        "\n",
        "    ‘with’ keyword is used in file handling that will help  to close the file automatically once opened.\n",
        "\n",
        "    Ex: with open(“filename.txt”,r) as fr:\n",
        "\t\tfr.readline() \n"
      ],
      "metadata": {
        "id": "i8fDvZVHCVwt"
      }
    },
    {
      "cell_type": "markdown",
      "source": [
        "7.\tWhat is ZIP function write one example?\n",
        "\n",
        "\t\tZip function maps the similar indexed values of multiple containers.\n",
        "\n",
        "  Syntax: zip(*iterables)\n",
        "\n"
      ],
      "metadata": {
        "id": "1VNDgNL3C5q9"
      }
    },
    {
      "cell_type": "code",
      "source": [
        "num = [15, 20, 30, 33, 60]\n",
        "marks = [ 44, 56, 76, 97, 60]\n",
        "print(set(zip(num, marks))) # {(15, 44), (30, 76), (20, 56), (60, 60), (33, 97)}"
      ],
      "metadata": {
        "colab": {
          "base_uri": "https://localhost:8080/"
        },
        "id": "wgMC0QlUC9Aq",
        "outputId": "831c267c-36f7-407f-91ca-c94976a9db36"
      },
      "execution_count": 8,
      "outputs": [
        {
          "output_type": "stream",
          "name": "stdout",
          "text": [
            "{(15, 44), (30, 76), (20, 56), (60, 60), (33, 97)}\n"
          ]
        }
      ]
    },
    {
      "cell_type": "markdown",
      "source": [
        "8.\tWhat is List Comprehension?\n",
        "\n",
        "\tList comprehension is an elegant way to define and create lists based on existing lists.\n",
        "\tList comprehension is generally more compact and faster than normal functions and loops for creating list.\n",
        "\n",
        " Syntax: [expression for item in iterable]\n"
      ],
      "metadata": {
        "id": "Mn3qZhYuDWmE"
      }
    },
    {
      "cell_type": "code",
      "source": [
        " print([i*2 for i in 'praveen']) "
      ],
      "metadata": {
        "colab": {
          "base_uri": "https://localhost:8080/"
        },
        "id": "zfpeqJImDaBg",
        "outputId": "06ae82ae-9807-4fa1-bc75-ca293c35f444"
      },
      "execution_count": 10,
      "outputs": [
        {
          "output_type": "stream",
          "name": "stdout",
          "text": [
            "['pp', 'rr', 'aa', 'vv', 'ee', 'ee', 'nn']\n"
          ]
        }
      ]
    },
    {
      "cell_type": "markdown",
      "source": [
        "9.\tWhat is Dict Comprehension?\n",
        "\n",
        "  List comprehension idea is carried over in defining dict   comprehension as well. Dict comprehension is defined with a similar syntax, but with a key: value pair in expression.\n",
        "\n",
        "\tSyntax: {key: value for object in iterable}\n"
      ],
      "metadata": {
        "id": "yXQLl8OyDsXx"
      }
    },
    {
      "cell_type": "code",
      "source": [
        "Names = ['Praveen', 'Siva', 'Chakri', 'Sriram']\n",
        "{n: len(n) for n in Names} "
      ],
      "metadata": {
        "colab": {
          "base_uri": "https://localhost:8080/"
        },
        "id": "JTxrFeNaDwTC",
        "outputId": "81eaebb0-dc61-4955-8137-2e02d134ca4a"
      },
      "execution_count": 13,
      "outputs": [
        {
          "output_type": "execute_result",
          "data": {
            "text/plain": [
              "{'Praveen': 7, 'Siva': 4, 'Chakri': 6, 'Sriram': 6}"
            ]
          },
          "metadata": {},
          "execution_count": 13
        }
      ]
    },
    {
      "cell_type": "markdown",
      "source": [
        "10.\tWhat is lambda function write one example?\n",
        "\n",
        "\tLambda functions also called as Anonymous functions or nameless functions.\n",
        "\tThese functions will be used for containing functionality that need for short- term use.\n",
        "\n",
        "  Syntax:  lambda expression\n"
      ],
      "metadata": {
        "id": "ho9hFI_9EKf8"
      }
    },
    {
      "cell_type": "code",
      "source": [
        "y = lambda x: x//2\n",
        "print(y(10))      "
      ],
      "metadata": {
        "colab": {
          "base_uri": "https://localhost:8080/"
        },
        "id": "E0IhVBDkEPGw",
        "outputId": "cb552060-b6fc-4a67-e19e-f5de0da4cc6c"
      },
      "execution_count": 14,
      "outputs": [
        {
          "output_type": "stream",
          "name": "stdout",
          "text": [
            "5\n"
          ]
        }
      ]
    },
    {
      "cell_type": "markdown",
      "source": [
        "Thanks For Watching File link is available in description"
      ],
      "metadata": {
        "id": "XA-3eW9xGMEV"
      }
    },
    {
      "cell_type": "code",
      "source": [],
      "metadata": {
        "id": "9Pct0nfPGS_O"
      },
      "execution_count": null,
      "outputs": []
    }
  ],
  "metadata": {
    "colab": {
      "collapsed_sections": [],
      "provenance": []
    },
    "kernelspec": {
      "display_name": "Python 3",
      "name": "python3"
    },
    "language_info": {
      "name": "python"
    }
  },
  "nbformat": 4,
  "nbformat_minor": 0
}